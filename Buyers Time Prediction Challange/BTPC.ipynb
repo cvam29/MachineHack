{
 "cells": [
  {
   "cell_type": "code",
   "execution_count": 1,
   "metadata": {},
   "outputs": [],
   "source": [
    "import numpy as np \n",
    "import pandas as pd\n",
    "from sklearn.metrics import mean_squared_log_error"
   ]
  },
  {
   "cell_type": "code",
   "execution_count": 2,
   "metadata": {},
   "outputs": [],
   "source": [
    "train=pd.read_csv(\"ParticipantData_BTPC/Train.csv\")\n",
    "test=pd.read_csv(\"ParticipantData_BTPC/Test.csv\")"
   ]
  },
  {
   "cell_type": "code",
   "execution_count": 3,
   "metadata": {},
   "outputs": [
    {
     "data": {
      "text/html": [
       "<div>\n",
       "<style scoped>\n",
       "    .dataframe tbody tr th:only-of-type {\n",
       "        vertical-align: middle;\n",
       "    }\n",
       "\n",
       "    .dataframe tbody tr th {\n",
       "        vertical-align: top;\n",
       "    }\n",
       "\n",
       "    .dataframe thead th {\n",
       "        text-align: right;\n",
       "    }\n",
       "</style>\n",
       "<table border=\"1\" class=\"dataframe\">\n",
       "  <thead>\n",
       "    <tr style=\"text-align: right;\">\n",
       "      <th></th>\n",
       "      <th>count</th>\n",
       "      <th>mean</th>\n",
       "      <th>std</th>\n",
       "      <th>min</th>\n",
       "      <th>25%</th>\n",
       "      <th>50%</th>\n",
       "      <th>75%</th>\n",
       "      <th>max</th>\n",
       "    </tr>\n",
       "  </thead>\n",
       "  <tbody>\n",
       "    <tr>\n",
       "      <th>session_number</th>\n",
       "      <td>5429.0</td>\n",
       "      <td>1072.835329</td>\n",
       "      <td>1436.351474</td>\n",
       "      <td>11.0</td>\n",
       "      <td>121.000</td>\n",
       "      <td>517.000</td>\n",
       "      <td>1397.000</td>\n",
       "      <td>7722.000</td>\n",
       "    </tr>\n",
       "    <tr>\n",
       "      <th>purchased</th>\n",
       "      <td>5429.0</td>\n",
       "      <td>0.159145</td>\n",
       "      <td>0.365845</td>\n",
       "      <td>0.0</td>\n",
       "      <td>0.000</td>\n",
       "      <td>0.000</td>\n",
       "      <td>0.000</td>\n",
       "      <td>1.000</td>\n",
       "    </tr>\n",
       "    <tr>\n",
       "      <th>added_in_cart</th>\n",
       "      <td>5429.0</td>\n",
       "      <td>0.162092</td>\n",
       "      <td>0.368570</td>\n",
       "      <td>0.0</td>\n",
       "      <td>0.000</td>\n",
       "      <td>0.000</td>\n",
       "      <td>0.000</td>\n",
       "      <td>1.000</td>\n",
       "    </tr>\n",
       "    <tr>\n",
       "      <th>checked_out</th>\n",
       "      <td>5429.0</td>\n",
       "      <td>0.017499</td>\n",
       "      <td>0.131132</td>\n",
       "      <td>0.0</td>\n",
       "      <td>0.000</td>\n",
       "      <td>0.000</td>\n",
       "      <td>0.000</td>\n",
       "      <td>1.000</td>\n",
       "    </tr>\n",
       "    <tr>\n",
       "      <th>time_spent</th>\n",
       "      <td>5429.0</td>\n",
       "      <td>663.194292</td>\n",
       "      <td>1713.671664</td>\n",
       "      <td>14.4</td>\n",
       "      <td>22.699</td>\n",
       "      <td>98.312</td>\n",
       "      <td>600.463</td>\n",
       "      <td>38494.025</td>\n",
       "    </tr>\n",
       "  </tbody>\n",
       "</table>\n",
       "</div>"
      ],
      "text/plain": [
       "                 count         mean          std   min      25%      50%  \\\n",
       "session_number  5429.0  1072.835329  1436.351474  11.0  121.000  517.000   \n",
       "purchased       5429.0     0.159145     0.365845   0.0    0.000    0.000   \n",
       "added_in_cart   5429.0     0.162092     0.368570   0.0    0.000    0.000   \n",
       "checked_out     5429.0     0.017499     0.131132   0.0    0.000    0.000   \n",
       "time_spent      5429.0   663.194292  1713.671664  14.4   22.699   98.312   \n",
       "\n",
       "                     75%        max  \n",
       "session_number  1397.000   7722.000  \n",
       "purchased          0.000      1.000  \n",
       "added_in_cart      0.000      1.000  \n",
       "checked_out        0.000      1.000  \n",
       "time_spent       600.463  38494.025  "
      ]
     },
     "execution_count": 3,
     "metadata": {},
     "output_type": "execute_result"
    }
   ],
   "source": [
    "train.describe().T"
   ]
  },
  {
   "cell_type": "code",
   "execution_count": 4,
   "metadata": {},
   "outputs": [
    {
     "data": {
      "text/html": [
       "<div>\n",
       "<style scoped>\n",
       "    .dataframe tbody tr th:only-of-type {\n",
       "        vertical-align: middle;\n",
       "    }\n",
       "\n",
       "    .dataframe tbody tr th {\n",
       "        vertical-align: top;\n",
       "    }\n",
       "\n",
       "    .dataframe thead th {\n",
       "        text-align: right;\n",
       "    }\n",
       "</style>\n",
       "<table border=\"1\" class=\"dataframe\">\n",
       "  <thead>\n",
       "    <tr style=\"text-align: right;\">\n",
       "      <th></th>\n",
       "      <th>count</th>\n",
       "      <th>mean</th>\n",
       "      <th>std</th>\n",
       "      <th>min</th>\n",
       "      <th>25%</th>\n",
       "      <th>50%</th>\n",
       "      <th>75%</th>\n",
       "      <th>max</th>\n",
       "    </tr>\n",
       "  </thead>\n",
       "  <tbody>\n",
       "    <tr>\n",
       "      <th>session_number</th>\n",
       "      <td>2327.0</td>\n",
       "      <td>1093.410400</td>\n",
       "      <td>1471.339763</td>\n",
       "      <td>11.0</td>\n",
       "      <td>121.0</td>\n",
       "      <td>495.0</td>\n",
       "      <td>1424.5</td>\n",
       "      <td>7667.0</td>\n",
       "    </tr>\n",
       "    <tr>\n",
       "      <th>purchased</th>\n",
       "      <td>2327.0</td>\n",
       "      <td>0.159862</td>\n",
       "      <td>0.366557</td>\n",
       "      <td>0.0</td>\n",
       "      <td>0.0</td>\n",
       "      <td>0.0</td>\n",
       "      <td>0.0</td>\n",
       "      <td>1.0</td>\n",
       "    </tr>\n",
       "    <tr>\n",
       "      <th>added_in_cart</th>\n",
       "      <td>2327.0</td>\n",
       "      <td>0.171465</td>\n",
       "      <td>0.376996</td>\n",
       "      <td>0.0</td>\n",
       "      <td>0.0</td>\n",
       "      <td>0.0</td>\n",
       "      <td>0.0</td>\n",
       "      <td>1.0</td>\n",
       "    </tr>\n",
       "    <tr>\n",
       "      <th>checked_out</th>\n",
       "      <td>2327.0</td>\n",
       "      <td>0.021487</td>\n",
       "      <td>0.145032</td>\n",
       "      <td>0.0</td>\n",
       "      <td>0.0</td>\n",
       "      <td>0.0</td>\n",
       "      <td>0.0</td>\n",
       "      <td>1.0</td>\n",
       "    </tr>\n",
       "  </tbody>\n",
       "</table>\n",
       "</div>"
      ],
      "text/plain": [
       "                 count         mean          std   min    25%    50%     75%  \\\n",
       "session_number  2327.0  1093.410400  1471.339763  11.0  121.0  495.0  1424.5   \n",
       "purchased       2327.0     0.159862     0.366557   0.0    0.0    0.0     0.0   \n",
       "added_in_cart   2327.0     0.171465     0.376996   0.0    0.0    0.0     0.0   \n",
       "checked_out     2327.0     0.021487     0.145032   0.0    0.0    0.0     0.0   \n",
       "\n",
       "                   max  \n",
       "session_number  7667.0  \n",
       "purchased          1.0  \n",
       "added_in_cart      1.0  \n",
       "checked_out        1.0  "
      ]
     },
     "execution_count": 4,
     "metadata": {},
     "output_type": "execute_result"
    }
   ],
   "source": [
    "test.describe().T"
   ]
  },
  {
   "cell_type": "code",
   "execution_count": 5,
   "metadata": {},
   "outputs": [
    {
     "data": {
      "text/html": [
       "<div>\n",
       "<style scoped>\n",
       "    .dataframe tbody tr th:only-of-type {\n",
       "        vertical-align: middle;\n",
       "    }\n",
       "\n",
       "    .dataframe tbody tr th {\n",
       "        vertical-align: top;\n",
       "    }\n",
       "\n",
       "    .dataframe thead th {\n",
       "        text-align: right;\n",
       "    }\n",
       "</style>\n",
       "<table border=\"1\" class=\"dataframe\">\n",
       "  <thead>\n",
       "    <tr style=\"text-align: right;\">\n",
       "      <th></th>\n",
       "      <th>session_id</th>\n",
       "      <th>session_number</th>\n",
       "      <th>client_agent</th>\n",
       "      <th>device_details</th>\n",
       "      <th>date</th>\n",
       "      <th>purchased</th>\n",
       "      <th>added_in_cart</th>\n",
       "      <th>checked_out</th>\n",
       "      <th>time_spent</th>\n",
       "    </tr>\n",
       "  </thead>\n",
       "  <tbody>\n",
       "    <tr>\n",
       "      <th>0</th>\n",
       "      <td>57f879e70d3c5fc2a98102d64c9fd84e</td>\n",
       "      <td>715</td>\n",
       "      <td>Mozilla/5.0 (Windows NT 6.1; WOW64) AppleWebKi...</td>\n",
       "      <td>Desktop - Chrome</td>\n",
       "      <td>2020-01-22</td>\n",
       "      <td>1</td>\n",
       "      <td>0</td>\n",
       "      <td>0</td>\n",
       "      <td>236.886</td>\n",
       "    </tr>\n",
       "    <tr>\n",
       "      <th>1</th>\n",
       "      <td>a5442b0c7c33d0a811e7661e556b2de8</td>\n",
       "      <td>55</td>\n",
       "      <td>Product/8.0 iPhone/8.1.3</td>\n",
       "      <td>iPhone - iOS</td>\n",
       "      <td>2020-02-27</td>\n",
       "      <td>1</td>\n",
       "      <td>0</td>\n",
       "      <td>0</td>\n",
       "      <td>1277.455</td>\n",
       "    </tr>\n",
       "    <tr>\n",
       "      <th>2</th>\n",
       "      <td>305cb1486ed8610c00b37007926cb2c4</td>\n",
       "      <td>11</td>\n",
       "      <td>Mozilla/5.0 (iPhone; CPU iPhone OS 7_1_2 like ...</td>\n",
       "      <td>iPhone - MobileWeb</td>\n",
       "      <td>2019-08-01</td>\n",
       "      <td>0</td>\n",
       "      <td>0</td>\n",
       "      <td>0</td>\n",
       "      <td>21.704</td>\n",
       "    </tr>\n",
       "    <tr>\n",
       "      <th>3</th>\n",
       "      <td>f2c1ecc9993f0071df91ba178450498c</td>\n",
       "      <td>2794</td>\n",
       "      <td>Mozilla/5.0 (compatible; MSIE 9.0; Windows NT ...</td>\n",
       "      <td>Desktop - IE</td>\n",
       "      <td>2019-12-30</td>\n",
       "      <td>0</td>\n",
       "      <td>1</td>\n",
       "      <td>0</td>\n",
       "      <td>455.201</td>\n",
       "    </tr>\n",
       "    <tr>\n",
       "      <th>4</th>\n",
       "      <td>e460830ae295e55d2216ebdc761ab9a6</td>\n",
       "      <td>3674</td>\n",
       "      <td>Mozilla/5.0 (iPhone; CPU iPhone OS 7_1_1 like ...</td>\n",
       "      <td>iPhone - Web</td>\n",
       "      <td>2019-09-10</td>\n",
       "      <td>0</td>\n",
       "      <td>0</td>\n",
       "      <td>0</td>\n",
       "      <td>1164.877</td>\n",
       "    </tr>\n",
       "    <tr>\n",
       "      <th>5</th>\n",
       "      <td>b4ae55a4553d43697dcf64b66033677b</td>\n",
       "      <td>550</td>\n",
       "      <td>Product/160402 Android/5.0 Device/LGE_LG-D855 ...</td>\n",
       "      <td>Android Phone - Android</td>\n",
       "      <td>2020-02-06</td>\n",
       "      <td>0</td>\n",
       "      <td>1</td>\n",
       "      <td>0</td>\n",
       "      <td>6010.343</td>\n",
       "    </tr>\n",
       "    <tr>\n",
       "      <th>6</th>\n",
       "      <td>a17491477ea11e951286f583b3095899</td>\n",
       "      <td>198</td>\n",
       "      <td>Mozilla/5.0 (Windows NT 6.1; WOW64; rv:30.0) G...</td>\n",
       "      <td>Desktop - Firefox</td>\n",
       "      <td>2019-05-30</td>\n",
       "      <td>1</td>\n",
       "      <td>1</td>\n",
       "      <td>1</td>\n",
       "      <td>8471.435</td>\n",
       "    </tr>\n",
       "    <tr>\n",
       "      <th>7</th>\n",
       "      <td>939dfd89beacc36f5f8acd5bfa062b57</td>\n",
       "      <td>2915</td>\n",
       "      <td>Mozilla/5.0 (Windows NT 6.3; WOW64; Trident/7....</td>\n",
       "      <td>Android Tablet - Web</td>\n",
       "      <td>2020-01-03</td>\n",
       "      <td>0</td>\n",
       "      <td>0</td>\n",
       "      <td>0</td>\n",
       "      <td>83.030</td>\n",
       "    </tr>\n",
       "    <tr>\n",
       "      <th>8</th>\n",
       "      <td>1334aaff26b65ec26dc1e539c0ed20cb</td>\n",
       "      <td>319</td>\n",
       "      <td>Product/4.5.1 iPhone/8.1</td>\n",
       "      <td>iPhone - iOS</td>\n",
       "      <td>2019-10-19</td>\n",
       "      <td>0</td>\n",
       "      <td>0</td>\n",
       "      <td>0</td>\n",
       "      <td>97.722</td>\n",
       "    </tr>\n",
       "    <tr>\n",
       "      <th>9</th>\n",
       "      <td>750d0bfd2fb9ba1628586bb98c1611ca</td>\n",
       "      <td>2574</td>\n",
       "      <td>Mozilla/5.0 (Windows NT 6.1; WOW64) AppleWebKi...</td>\n",
       "      <td>Desktop - Chrome</td>\n",
       "      <td>2020-03-04</td>\n",
       "      <td>0</td>\n",
       "      <td>1</td>\n",
       "      <td>0</td>\n",
       "      <td>44.841</td>\n",
       "    </tr>\n",
       "    <tr>\n",
       "      <th>10</th>\n",
       "      <td>556aab29427b7d12cd57ce816fe69403</td>\n",
       "      <td>44</td>\n",
       "      <td>Product/8.0 iPhone/8.1</td>\n",
       "      <td>iPhone - iOS</td>\n",
       "      <td>2020-02-11</td>\n",
       "      <td>0</td>\n",
       "      <td>0</td>\n",
       "      <td>0</td>\n",
       "      <td>133.771</td>\n",
       "    </tr>\n",
       "    <tr>\n",
       "      <th>11</th>\n",
       "      <td>6dbdb72ff887577f72c5e2931b5902e4</td>\n",
       "      <td>22</td>\n",
       "      <td>Mozilla/5.0 (iPhone; CPU iPhone OS 7_1_2 like ...</td>\n",
       "      <td>iPhone - MobileWeb</td>\n",
       "      <td>2019-08-27</td>\n",
       "      <td>0</td>\n",
       "      <td>0</td>\n",
       "      <td>0</td>\n",
       "      <td>111.788</td>\n",
       "    </tr>\n",
       "    <tr>\n",
       "      <th>12</th>\n",
       "      <td>e029c7ecfd7d0ff6863f1c9de15cf2d9</td>\n",
       "      <td>605</td>\n",
       "      <td>Mozilla/5.0 (Windows NT 6.3; WOW64; Trident/7....</td>\n",
       "      <td>Android Tablet - Web</td>\n",
       "      <td>2019-07-09</td>\n",
       "      <td>0</td>\n",
       "      <td>0</td>\n",
       "      <td>0</td>\n",
       "      <td>32.207</td>\n",
       "    </tr>\n",
       "    <tr>\n",
       "      <th>13</th>\n",
       "      <td>27aae3ec4110a4151241ad69e395a2ab</td>\n",
       "      <td>11</td>\n",
       "      <td>Mozilla/5.0 (iPad; CPU OS 7_1_2 like Mac OS X)...</td>\n",
       "      <td>iPad - Web</td>\n",
       "      <td>2019-08-31</td>\n",
       "      <td>0</td>\n",
       "      <td>0</td>\n",
       "      <td>0</td>\n",
       "      <td>19.439</td>\n",
       "    </tr>\n",
       "    <tr>\n",
       "      <th>14</th>\n",
       "      <td>80d4c7208c66dc611d5fd9919a2fb9dd</td>\n",
       "      <td>33</td>\n",
       "      <td>Mozilla/5.0 (Macintosh; Intel Mac OS X 10_9_5)...</td>\n",
       "      <td>Desktop - Chrome</td>\n",
       "      <td>2020-02-26</td>\n",
       "      <td>1</td>\n",
       "      <td>0</td>\n",
       "      <td>0</td>\n",
       "      <td>1490.546</td>\n",
       "    </tr>\n",
       "    <tr>\n",
       "      <th>15</th>\n",
       "      <td>653aa7c3467fe5be2c143e87d2cf0325</td>\n",
       "      <td>7656</td>\n",
       "      <td>Mozilla/5.0 (Windows NT 6.1; WOW64) AppleWebKi...</td>\n",
       "      <td>Desktop - Chrome</td>\n",
       "      <td>2020-01-15</td>\n",
       "      <td>1</td>\n",
       "      <td>0</td>\n",
       "      <td>0</td>\n",
       "      <td>200.382</td>\n",
       "    </tr>\n",
       "    <tr>\n",
       "      <th>16</th>\n",
       "      <td>db966bdc275dcdfd0c75aba8e7a9003c</td>\n",
       "      <td>2750</td>\n",
       "      <td>Mozilla/5.0 (iPhone; CPU iPhone OS 7_1_1 like ...</td>\n",
       "      <td>iPhone - Web</td>\n",
       "      <td>2019-09-06</td>\n",
       "      <td>0</td>\n",
       "      <td>0</td>\n",
       "      <td>0</td>\n",
       "      <td>14915.069</td>\n",
       "    </tr>\n",
       "    <tr>\n",
       "      <th>17</th>\n",
       "      <td>3028f3656e3c67eca20265532c2eec89</td>\n",
       "      <td>176</td>\n",
       "      <td>Product/4.7.0 iPhone/7.1.2</td>\n",
       "      <td>iPhone - iOS</td>\n",
       "      <td>2020-03-05</td>\n",
       "      <td>0</td>\n",
       "      <td>0</td>\n",
       "      <td>0</td>\n",
       "      <td>291.791</td>\n",
       "    </tr>\n",
       "    <tr>\n",
       "      <th>18</th>\n",
       "      <td>6433a45835c264f2dc611515ac94c0f1</td>\n",
       "      <td>4257</td>\n",
       "      <td>Product/7.0 iPhone/8.1.3</td>\n",
       "      <td>iPhone - iOS</td>\n",
       "      <td>2020-01-25</td>\n",
       "      <td>0</td>\n",
       "      <td>0</td>\n",
       "      <td>0</td>\n",
       "      <td>23.123</td>\n",
       "    </tr>\n",
       "    <tr>\n",
       "      <th>19</th>\n",
       "      <td>ffd9783163e22452b6b8c36205310ff9</td>\n",
       "      <td>506</td>\n",
       "      <td>NaN</td>\n",
       "      <td>Other - Other</td>\n",
       "      <td>2019-09-01</td>\n",
       "      <td>0</td>\n",
       "      <td>0</td>\n",
       "      <td>0</td>\n",
       "      <td>21.452</td>\n",
       "    </tr>\n",
       "  </tbody>\n",
       "</table>\n",
       "</div>"
      ],
      "text/plain": [
       "                          session_id  session_number  \\\n",
       "0   57f879e70d3c5fc2a98102d64c9fd84e             715   \n",
       "1   a5442b0c7c33d0a811e7661e556b2de8              55   \n",
       "2   305cb1486ed8610c00b37007926cb2c4              11   \n",
       "3   f2c1ecc9993f0071df91ba178450498c            2794   \n",
       "4   e460830ae295e55d2216ebdc761ab9a6            3674   \n",
       "5   b4ae55a4553d43697dcf64b66033677b             550   \n",
       "6   a17491477ea11e951286f583b3095899             198   \n",
       "7   939dfd89beacc36f5f8acd5bfa062b57            2915   \n",
       "8   1334aaff26b65ec26dc1e539c0ed20cb             319   \n",
       "9   750d0bfd2fb9ba1628586bb98c1611ca            2574   \n",
       "10  556aab29427b7d12cd57ce816fe69403              44   \n",
       "11  6dbdb72ff887577f72c5e2931b5902e4              22   \n",
       "12  e029c7ecfd7d0ff6863f1c9de15cf2d9             605   \n",
       "13  27aae3ec4110a4151241ad69e395a2ab              11   \n",
       "14  80d4c7208c66dc611d5fd9919a2fb9dd              33   \n",
       "15  653aa7c3467fe5be2c143e87d2cf0325            7656   \n",
       "16  db966bdc275dcdfd0c75aba8e7a9003c            2750   \n",
       "17  3028f3656e3c67eca20265532c2eec89             176   \n",
       "18  6433a45835c264f2dc611515ac94c0f1            4257   \n",
       "19  ffd9783163e22452b6b8c36205310ff9             506   \n",
       "\n",
       "                                         client_agent  \\\n",
       "0   Mozilla/5.0 (Windows NT 6.1; WOW64) AppleWebKi...   \n",
       "1                            Product/8.0 iPhone/8.1.3   \n",
       "2   Mozilla/5.0 (iPhone; CPU iPhone OS 7_1_2 like ...   \n",
       "3   Mozilla/5.0 (compatible; MSIE 9.0; Windows NT ...   \n",
       "4   Mozilla/5.0 (iPhone; CPU iPhone OS 7_1_1 like ...   \n",
       "5   Product/160402 Android/5.0 Device/LGE_LG-D855 ...   \n",
       "6   Mozilla/5.0 (Windows NT 6.1; WOW64; rv:30.0) G...   \n",
       "7   Mozilla/5.0 (Windows NT 6.3; WOW64; Trident/7....   \n",
       "8                            Product/4.5.1 iPhone/8.1   \n",
       "9   Mozilla/5.0 (Windows NT 6.1; WOW64) AppleWebKi...   \n",
       "10                             Product/8.0 iPhone/8.1   \n",
       "11  Mozilla/5.0 (iPhone; CPU iPhone OS 7_1_2 like ...   \n",
       "12  Mozilla/5.0 (Windows NT 6.3; WOW64; Trident/7....   \n",
       "13  Mozilla/5.0 (iPad; CPU OS 7_1_2 like Mac OS X)...   \n",
       "14  Mozilla/5.0 (Macintosh; Intel Mac OS X 10_9_5)...   \n",
       "15  Mozilla/5.0 (Windows NT 6.1; WOW64) AppleWebKi...   \n",
       "16  Mozilla/5.0 (iPhone; CPU iPhone OS 7_1_1 like ...   \n",
       "17                         Product/4.7.0 iPhone/7.1.2   \n",
       "18                           Product/7.0 iPhone/8.1.3   \n",
       "19                                                NaN   \n",
       "\n",
       "             device_details        date  purchased  added_in_cart  \\\n",
       "0          Desktop - Chrome  2020-01-22          1              0   \n",
       "1              iPhone - iOS  2020-02-27          1              0   \n",
       "2        iPhone - MobileWeb  2019-08-01          0              0   \n",
       "3              Desktop - IE  2019-12-30          0              1   \n",
       "4              iPhone - Web  2019-09-10          0              0   \n",
       "5   Android Phone - Android  2020-02-06          0              1   \n",
       "6         Desktop - Firefox  2019-05-30          1              1   \n",
       "7      Android Tablet - Web  2020-01-03          0              0   \n",
       "8              iPhone - iOS  2019-10-19          0              0   \n",
       "9          Desktop - Chrome  2020-03-04          0              1   \n",
       "10             iPhone - iOS  2020-02-11          0              0   \n",
       "11       iPhone - MobileWeb  2019-08-27          0              0   \n",
       "12     Android Tablet - Web  2019-07-09          0              0   \n",
       "13               iPad - Web  2019-08-31          0              0   \n",
       "14         Desktop - Chrome  2020-02-26          1              0   \n",
       "15         Desktop - Chrome  2020-01-15          1              0   \n",
       "16             iPhone - Web  2019-09-06          0              0   \n",
       "17             iPhone - iOS  2020-03-05          0              0   \n",
       "18             iPhone - iOS  2020-01-25          0              0   \n",
       "19            Other - Other  2019-09-01          0              0   \n",
       "\n",
       "    checked_out  time_spent  \n",
       "0             0     236.886  \n",
       "1             0    1277.455  \n",
       "2             0      21.704  \n",
       "3             0     455.201  \n",
       "4             0    1164.877  \n",
       "5             0    6010.343  \n",
       "6             1    8471.435  \n",
       "7             0      83.030  \n",
       "8             0      97.722  \n",
       "9             0      44.841  \n",
       "10            0     133.771  \n",
       "11            0     111.788  \n",
       "12            0      32.207  \n",
       "13            0      19.439  \n",
       "14            0    1490.546  \n",
       "15            0     200.382  \n",
       "16            0   14915.069  \n",
       "17            0     291.791  \n",
       "18            0      23.123  \n",
       "19            0      21.452  "
      ]
     },
     "execution_count": 5,
     "metadata": {},
     "output_type": "execute_result"
    }
   ],
   "source": [
    "train.head(20)"
   ]
  },
  {
   "cell_type": "code",
   "execution_count": 6,
   "metadata": {},
   "outputs": [
    {
     "data": {
      "text/plain": [
       "17"
      ]
     },
     "execution_count": 6,
     "metadata": {},
     "output_type": "execute_result"
    }
   ],
   "source": [
    "train.device_details.nunique()"
   ]
  },
  {
   "cell_type": "code",
   "execution_count": 7,
   "metadata": {},
   "outputs": [
    {
     "data": {
      "text/plain": [
       "array(['Desktop - Chrome', 'iPhone - iOS', 'iPhone - MobileWeb',\n",
       "       'Desktop - IE', 'iPhone - Web', 'Android Phone - Android',\n",
       "       'Desktop - Firefox', 'Android Tablet - Web', 'iPad - Web',\n",
       "       'Other - Other', 'Desktop - Safari', 'Android Phone - Web',\n",
       "       'iPad - iOS', 'Android Phone - MobileWeb', 'Unknown - MobileWeb',\n",
       "       'Android Tablet - Android', 'Android Tablet - MobileWeb'],\n",
       "      dtype=object)"
      ]
     },
     "execution_count": 7,
     "metadata": {},
     "output_type": "execute_result"
    }
   ],
   "source": [
    "train.device_details.unique()"
   ]
  },
  {
   "cell_type": "code",
   "execution_count": 8,
   "metadata": {},
   "outputs": [
    {
     "data": {
      "text/plain": [
       "count             5429\n",
       "unique              17\n",
       "top       iPhone - iOS\n",
       "freq              1515\n",
       "Name: device_details, dtype: object"
      ]
     },
     "execution_count": 8,
     "metadata": {},
     "output_type": "execute_result"
    }
   ],
   "source": [
    "train.device_details.describe()"
   ]
  },
  {
   "cell_type": "code",
   "execution_count": 9,
   "metadata": {},
   "outputs": [
    {
     "data": {
      "text/plain": [
       "16"
      ]
     },
     "execution_count": 9,
     "metadata": {},
     "output_type": "execute_result"
    }
   ],
   "source": [
    "test.device_details.nunique()"
   ]
  },
  {
   "cell_type": "code",
   "execution_count": 10,
   "metadata": {},
   "outputs": [
    {
     "data": {
      "text/plain": [
       "array(['Desktop - IE', 'Android Phone - Android', 'iPhone - iOS',\n",
       "       'Desktop - Chrome', 'Unknown - MobileWeb', 'Android Tablet - Web',\n",
       "       'Android Phone - Web', 'iPhone - MobileWeb', 'iPad - iOS',\n",
       "       'iPad - Web', 'iPhone - Web', 'Desktop - Firefox', 'Other - Other',\n",
       "       'Desktop - Safari', 'Android Tablet - Android',\n",
       "       'Android Phone - MobileWeb'], dtype=object)"
      ]
     },
     "execution_count": 10,
     "metadata": {},
     "output_type": "execute_result"
    }
   ],
   "source": [
    "test.device_details.unique()"
   ]
  },
  {
   "cell_type": "code",
   "execution_count": 11,
   "metadata": {},
   "outputs": [
    {
     "data": {
      "text/plain": [
       "session_id          0\n",
       "session_number      0\n",
       "client_agent      160\n",
       "device_details      0\n",
       "date                0\n",
       "purchased           0\n",
       "added_in_cart       0\n",
       "checked_out         0\n",
       "time_spent          0\n",
       "dtype: int64"
      ]
     },
     "execution_count": 11,
     "metadata": {},
     "output_type": "execute_result"
    }
   ],
   "source": [
    "train.isnull().sum()"
   ]
  },
  {
   "cell_type": "code",
   "execution_count": 12,
   "metadata": {},
   "outputs": [
    {
     "data": {
      "text/plain": [
       "session_id         0\n",
       "session_number     0\n",
       "client_agent      59\n",
       "device_details     0\n",
       "date               0\n",
       "purchased          0\n",
       "added_in_cart      0\n",
       "checked_out        0\n",
       "dtype: int64"
      ]
     },
     "execution_count": 12,
     "metadata": {},
     "output_type": "execute_result"
    }
   ],
   "source": [
    "test.isnull().sum()"
   ]
  },
  {
   "cell_type": "code",
   "execution_count": 13,
   "metadata": {},
   "outputs": [
    {
     "data": {
      "text/plain": [
       "610"
      ]
     },
     "execution_count": 13,
     "metadata": {},
     "output_type": "execute_result"
    }
   ],
   "source": [
    "train.session_number.nunique()"
   ]
  },
  {
   "cell_type": "code",
   "execution_count": 14,
   "metadata": {},
   "outputs": [
    {
     "data": {
      "text/plain": [
       "5429"
      ]
     },
     "execution_count": 14,
     "metadata": {},
     "output_type": "execute_result"
    }
   ],
   "source": [
    "train.session_id.nunique()"
   ]
  },
  {
   "cell_type": "code",
   "execution_count": 15,
   "metadata": {},
   "outputs": [
    {
     "data": {
      "text/plain": [
       "698"
      ]
     },
     "execution_count": 15,
     "metadata": {},
     "output_type": "execute_result"
    }
   ],
   "source": [
    "train.client_agent.nunique()"
   ]
  },
  {
   "cell_type": "code",
   "execution_count": 16,
   "metadata": {},
   "outputs": [],
   "source": [
    "combine=train.append(test)"
   ]
  },
  {
   "cell_type": "code",
   "execution_count": 17,
   "metadata": {},
   "outputs": [
    {
     "name": "stdout",
     "output_type": "stream",
     "text": [
      "<class 'pandas.core.frame.DataFrame'>\n",
      "Int64Index: 7756 entries, 0 to 2326\n",
      "Data columns (total 9 columns):\n",
      " #   Column          Non-Null Count  Dtype  \n",
      "---  ------          --------------  -----  \n",
      " 0   session_id      7756 non-null   object \n",
      " 1   session_number  7756 non-null   int64  \n",
      " 2   client_agent    7537 non-null   object \n",
      " 3   device_details  7756 non-null   object \n",
      " 4   date            7756 non-null   object \n",
      " 5   purchased       7756 non-null   int64  \n",
      " 6   added_in_cart   7756 non-null   int64  \n",
      " 7   checked_out     7756 non-null   int64  \n",
      " 8   time_spent      5429 non-null   float64\n",
      "dtypes: float64(1), int64(4), object(4)\n",
      "memory usage: 605.9+ KB\n"
     ]
    }
   ],
   "source": [
    "combine.info()"
   ]
  },
  {
   "cell_type": "code",
   "execution_count": 18,
   "metadata": {},
   "outputs": [],
   "source": [
    "combine['date']=pd.to_datetime(combine['date'])"
   ]
  },
  {
   "cell_type": "code",
   "execution_count": 19,
   "metadata": {},
   "outputs": [],
   "source": [
    "combine['Month'] = combine['date'].dt.month\n",
    "combine['Year'] = combine['date'].dt.year\n",
    "combine['Day'] = combine['date'].dt.day"
   ]
  },
  {
   "cell_type": "code",
   "execution_count": 20,
   "metadata": {},
   "outputs": [
    {
     "data": {
      "text/html": [
       "<div>\n",
       "<style scoped>\n",
       "    .dataframe tbody tr th:only-of-type {\n",
       "        vertical-align: middle;\n",
       "    }\n",
       "\n",
       "    .dataframe tbody tr th {\n",
       "        vertical-align: top;\n",
       "    }\n",
       "\n",
       "    .dataframe thead th {\n",
       "        text-align: right;\n",
       "    }\n",
       "</style>\n",
       "<table border=\"1\" class=\"dataframe\">\n",
       "  <thead>\n",
       "    <tr style=\"text-align: right;\">\n",
       "      <th></th>\n",
       "      <th>session_id</th>\n",
       "      <th>session_number</th>\n",
       "      <th>client_agent</th>\n",
       "      <th>device_details</th>\n",
       "      <th>date</th>\n",
       "      <th>purchased</th>\n",
       "      <th>added_in_cart</th>\n",
       "      <th>checked_out</th>\n",
       "      <th>time_spent</th>\n",
       "      <th>Month</th>\n",
       "      <th>Year</th>\n",
       "      <th>Day</th>\n",
       "    </tr>\n",
       "  </thead>\n",
       "  <tbody>\n",
       "    <tr>\n",
       "      <th>0</th>\n",
       "      <td>57f879e70d3c5fc2a98102d64c9fd84e</td>\n",
       "      <td>715</td>\n",
       "      <td>Mozilla/5.0 (Windows NT 6.1; WOW64) AppleWebKi...</td>\n",
       "      <td>Desktop - Chrome</td>\n",
       "      <td>2020-01-22</td>\n",
       "      <td>1</td>\n",
       "      <td>0</td>\n",
       "      <td>0</td>\n",
       "      <td>236.886</td>\n",
       "      <td>1</td>\n",
       "      <td>2020</td>\n",
       "      <td>22</td>\n",
       "    </tr>\n",
       "    <tr>\n",
       "      <th>1</th>\n",
       "      <td>a5442b0c7c33d0a811e7661e556b2de8</td>\n",
       "      <td>55</td>\n",
       "      <td>Product/8.0 iPhone/8.1.3</td>\n",
       "      <td>iPhone - iOS</td>\n",
       "      <td>2020-02-27</td>\n",
       "      <td>1</td>\n",
       "      <td>0</td>\n",
       "      <td>0</td>\n",
       "      <td>1277.455</td>\n",
       "      <td>2</td>\n",
       "      <td>2020</td>\n",
       "      <td>27</td>\n",
       "    </tr>\n",
       "    <tr>\n",
       "      <th>2</th>\n",
       "      <td>305cb1486ed8610c00b37007926cb2c4</td>\n",
       "      <td>11</td>\n",
       "      <td>Mozilla/5.0 (iPhone; CPU iPhone OS 7_1_2 like ...</td>\n",
       "      <td>iPhone - MobileWeb</td>\n",
       "      <td>2019-08-01</td>\n",
       "      <td>0</td>\n",
       "      <td>0</td>\n",
       "      <td>0</td>\n",
       "      <td>21.704</td>\n",
       "      <td>8</td>\n",
       "      <td>2019</td>\n",
       "      <td>1</td>\n",
       "    </tr>\n",
       "    <tr>\n",
       "      <th>3</th>\n",
       "      <td>f2c1ecc9993f0071df91ba178450498c</td>\n",
       "      <td>2794</td>\n",
       "      <td>Mozilla/5.0 (compatible; MSIE 9.0; Windows NT ...</td>\n",
       "      <td>Desktop - IE</td>\n",
       "      <td>2019-12-30</td>\n",
       "      <td>0</td>\n",
       "      <td>1</td>\n",
       "      <td>0</td>\n",
       "      <td>455.201</td>\n",
       "      <td>12</td>\n",
       "      <td>2019</td>\n",
       "      <td>30</td>\n",
       "    </tr>\n",
       "    <tr>\n",
       "      <th>4</th>\n",
       "      <td>e460830ae295e55d2216ebdc761ab9a6</td>\n",
       "      <td>3674</td>\n",
       "      <td>Mozilla/5.0 (iPhone; CPU iPhone OS 7_1_1 like ...</td>\n",
       "      <td>iPhone - Web</td>\n",
       "      <td>2019-09-10</td>\n",
       "      <td>0</td>\n",
       "      <td>0</td>\n",
       "      <td>0</td>\n",
       "      <td>1164.877</td>\n",
       "      <td>9</td>\n",
       "      <td>2019</td>\n",
       "      <td>10</td>\n",
       "    </tr>\n",
       "  </tbody>\n",
       "</table>\n",
       "</div>"
      ],
      "text/plain": [
       "                         session_id  session_number  \\\n",
       "0  57f879e70d3c5fc2a98102d64c9fd84e             715   \n",
       "1  a5442b0c7c33d0a811e7661e556b2de8              55   \n",
       "2  305cb1486ed8610c00b37007926cb2c4              11   \n",
       "3  f2c1ecc9993f0071df91ba178450498c            2794   \n",
       "4  e460830ae295e55d2216ebdc761ab9a6            3674   \n",
       "\n",
       "                                        client_agent      device_details  \\\n",
       "0  Mozilla/5.0 (Windows NT 6.1; WOW64) AppleWebKi...    Desktop - Chrome   \n",
       "1                           Product/8.0 iPhone/8.1.3        iPhone - iOS   \n",
       "2  Mozilla/5.0 (iPhone; CPU iPhone OS 7_1_2 like ...  iPhone - MobileWeb   \n",
       "3  Mozilla/5.0 (compatible; MSIE 9.0; Windows NT ...        Desktop - IE   \n",
       "4  Mozilla/5.0 (iPhone; CPU iPhone OS 7_1_1 like ...        iPhone - Web   \n",
       "\n",
       "        date  purchased  added_in_cart  checked_out  time_spent  Month  Year  \\\n",
       "0 2020-01-22          1              0            0     236.886      1  2020   \n",
       "1 2020-02-27          1              0            0    1277.455      2  2020   \n",
       "2 2019-08-01          0              0            0      21.704      8  2019   \n",
       "3 2019-12-30          0              1            0     455.201     12  2019   \n",
       "4 2019-09-10          0              0            0    1164.877      9  2019   \n",
       "\n",
       "   Day  \n",
       "0   22  \n",
       "1   27  \n",
       "2    1  \n",
       "3   30  \n",
       "4   10  "
      ]
     },
     "execution_count": 20,
     "metadata": {},
     "output_type": "execute_result"
    }
   ],
   "source": [
    "combine.head()"
   ]
  },
  {
   "cell_type": "code",
   "execution_count": 21,
   "metadata": {},
   "outputs": [],
   "source": [
    "combine=combine.drop(['date'],axis=1)"
   ]
  },
  {
   "cell_type": "code",
   "execution_count": 22,
   "metadata": {},
   "outputs": [],
   "source": [
    "combine['client_agent']=combine['client_agent'].replace(np.nan,'Unknown')"
   ]
  },
  {
   "cell_type": "code",
   "execution_count": 23,
   "metadata": {},
   "outputs": [],
   "source": [
    "combine['sessionid_ncode']=combine['session_id'].astype('category').cat.codes\n",
    "combine['sessionnum_ncode']=combine['session_number'].astype('category').cat.codes\n",
    "combine['clientagnt_ncode']=combine['client_agent'].astype('category').cat.codes\n",
    "combine['device_ncode']=combine['device_details'].astype('category').cat.codes\n",
    "\n"
   ]
  },
  {
   "cell_type": "code",
   "execution_count": 24,
   "metadata": {},
   "outputs": [
    {
     "data": {
      "text/html": [
       "<div>\n",
       "<style scoped>\n",
       "    .dataframe tbody tr th:only-of-type {\n",
       "        vertical-align: middle;\n",
       "    }\n",
       "\n",
       "    .dataframe tbody tr th {\n",
       "        vertical-align: top;\n",
       "    }\n",
       "\n",
       "    .dataframe thead th {\n",
       "        text-align: right;\n",
       "    }\n",
       "</style>\n",
       "<table border=\"1\" class=\"dataframe\">\n",
       "  <thead>\n",
       "    <tr style=\"text-align: right;\">\n",
       "      <th></th>\n",
       "      <th>session_id</th>\n",
       "      <th>session_number</th>\n",
       "      <th>client_agent</th>\n",
       "      <th>device_details</th>\n",
       "      <th>purchased</th>\n",
       "      <th>added_in_cart</th>\n",
       "      <th>checked_out</th>\n",
       "      <th>time_spent</th>\n",
       "      <th>Month</th>\n",
       "      <th>Year</th>\n",
       "      <th>Day</th>\n",
       "      <th>sessionid_ncode</th>\n",
       "      <th>sessionnum_ncode</th>\n",
       "      <th>clientagnt_ncode</th>\n",
       "      <th>device_ncode</th>\n",
       "    </tr>\n",
       "  </thead>\n",
       "  <tbody>\n",
       "    <tr>\n",
       "      <th>0</th>\n",
       "      <td>57f879e70d3c5fc2a98102d64c9fd84e</td>\n",
       "      <td>715</td>\n",
       "      <td>Mozilla/5.0 (Windows NT 6.1; WOW64) AppleWebKi...</td>\n",
       "      <td>Desktop - Chrome</td>\n",
       "      <td>1</td>\n",
       "      <td>0</td>\n",
       "      <td>0</td>\n",
       "      <td>236.886</td>\n",
       "      <td>1</td>\n",
       "      <td>2020</td>\n",
       "      <td>22</td>\n",
       "      <td>2687</td>\n",
       "      <td>64</td>\n",
       "      <td>301</td>\n",
       "      <td>6</td>\n",
       "    </tr>\n",
       "    <tr>\n",
       "      <th>1</th>\n",
       "      <td>a5442b0c7c33d0a811e7661e556b2de8</td>\n",
       "      <td>55</td>\n",
       "      <td>Product/8.0 iPhone/8.1.3</td>\n",
       "      <td>iPhone - iOS</td>\n",
       "      <td>1</td>\n",
       "      <td>0</td>\n",
       "      <td>0</td>\n",
       "      <td>1277.455</td>\n",
       "      <td>2</td>\n",
       "      <td>2020</td>\n",
       "      <td>27</td>\n",
       "      <td>4994</td>\n",
       "      <td>4</td>\n",
       "      <td>774</td>\n",
       "      <td>16</td>\n",
       "    </tr>\n",
       "    <tr>\n",
       "      <th>2</th>\n",
       "      <td>305cb1486ed8610c00b37007926cb2c4</td>\n",
       "      <td>11</td>\n",
       "      <td>Mozilla/5.0 (iPhone; CPU iPhone OS 7_1_2 like ...</td>\n",
       "      <td>iPhone - MobileWeb</td>\n",
       "      <td>0</td>\n",
       "      <td>0</td>\n",
       "      <td>0</td>\n",
       "      <td>21.704</td>\n",
       "      <td>8</td>\n",
       "      <td>2019</td>\n",
       "      <td>1</td>\n",
       "      <td>1489</td>\n",
       "      <td>0</td>\n",
       "      <td>471</td>\n",
       "      <td>14</td>\n",
       "    </tr>\n",
       "    <tr>\n",
       "      <th>3</th>\n",
       "      <td>f2c1ecc9993f0071df91ba178450498c</td>\n",
       "      <td>2794</td>\n",
       "      <td>Mozilla/5.0 (compatible; MSIE 9.0; Windows NT ...</td>\n",
       "      <td>Desktop - IE</td>\n",
       "      <td>0</td>\n",
       "      <td>1</td>\n",
       "      <td>0</td>\n",
       "      <td>455.201</td>\n",
       "      <td>12</td>\n",
       "      <td>2019</td>\n",
       "      <td>30</td>\n",
       "      <td>7343</td>\n",
       "      <td>253</td>\n",
       "      <td>406</td>\n",
       "      <td>8</td>\n",
       "    </tr>\n",
       "    <tr>\n",
       "      <th>4</th>\n",
       "      <td>e460830ae295e55d2216ebdc761ab9a6</td>\n",
       "      <td>3674</td>\n",
       "      <td>Mozilla/5.0 (iPhone; CPU iPhone OS 7_1_1 like ...</td>\n",
       "      <td>iPhone - Web</td>\n",
       "      <td>0</td>\n",
       "      <td>0</td>\n",
       "      <td>0</td>\n",
       "      <td>1164.877</td>\n",
       "      <td>9</td>\n",
       "      <td>2019</td>\n",
       "      <td>10</td>\n",
       "      <td>6935</td>\n",
       "      <td>333</td>\n",
       "      <td>465</td>\n",
       "      <td>15</td>\n",
       "    </tr>\n",
       "  </tbody>\n",
       "</table>\n",
       "</div>"
      ],
      "text/plain": [
       "                         session_id  session_number  \\\n",
       "0  57f879e70d3c5fc2a98102d64c9fd84e             715   \n",
       "1  a5442b0c7c33d0a811e7661e556b2de8              55   \n",
       "2  305cb1486ed8610c00b37007926cb2c4              11   \n",
       "3  f2c1ecc9993f0071df91ba178450498c            2794   \n",
       "4  e460830ae295e55d2216ebdc761ab9a6            3674   \n",
       "\n",
       "                                        client_agent      device_details  \\\n",
       "0  Mozilla/5.0 (Windows NT 6.1; WOW64) AppleWebKi...    Desktop - Chrome   \n",
       "1                           Product/8.0 iPhone/8.1.3        iPhone - iOS   \n",
       "2  Mozilla/5.0 (iPhone; CPU iPhone OS 7_1_2 like ...  iPhone - MobileWeb   \n",
       "3  Mozilla/5.0 (compatible; MSIE 9.0; Windows NT ...        Desktop - IE   \n",
       "4  Mozilla/5.0 (iPhone; CPU iPhone OS 7_1_1 like ...        iPhone - Web   \n",
       "\n",
       "   purchased  added_in_cart  checked_out  time_spent  Month  Year  Day  \\\n",
       "0          1              0            0     236.886      1  2020   22   \n",
       "1          1              0            0    1277.455      2  2020   27   \n",
       "2          0              0            0      21.704      8  2019    1   \n",
       "3          0              1            0     455.201     12  2019   30   \n",
       "4          0              0            0    1164.877      9  2019   10   \n",
       "\n",
       "   sessionid_ncode  sessionnum_ncode  clientagnt_ncode  device_ncode  \n",
       "0             2687                64               301             6  \n",
       "1             4994                 4               774            16  \n",
       "2             1489                 0               471            14  \n",
       "3             7343               253               406             8  \n",
       "4             6935               333               465            15  "
      ]
     },
     "execution_count": 24,
     "metadata": {},
     "output_type": "execute_result"
    }
   ],
   "source": [
    "combine.head()"
   ]
  },
  {
   "cell_type": "code",
   "execution_count": 25,
   "metadata": {},
   "outputs": [
    {
     "data": {
      "text/plain": [
       "Index(['session_id', 'session_number', 'client_agent', 'device_details',\n",
       "       'purchased', 'added_in_cart', 'checked_out', 'time_spent', 'Month',\n",
       "       'Year', 'Day', 'sessionid_ncode', 'sessionnum_ncode',\n",
       "       'clientagnt_ncode', 'device_ncode'],\n",
       "      dtype='object')"
      ]
     },
     "execution_count": 25,
     "metadata": {},
     "output_type": "execute_result"
    }
   ],
   "source": [
    "combine.columns"
   ]
  },
  {
   "cell_type": "code",
   "execution_count": 26,
   "metadata": {},
   "outputs": [],
   "source": [
    "train=combine[combine['time_spent'].isnull()!=True]\n",
    "test=combine[combine['time_spent'].isnull()==True]\n",
    "test=test.drop(['time_spent'],axis=1)"
   ]
  },
  {
   "cell_type": "code",
   "execution_count": 27,
   "metadata": {},
   "outputs": [],
   "source": [
    "y=train['time_spent'].ravel()\n",
    "X=train[['purchased', 'added_in_cart', 'checked_out', 'Month',\n",
    "       'Year', 'Day', 'sessionid_ncode', 'sessionnum_ncode',\n",
    "       'clientagnt_ncode', 'device_ncode']]"
   ]
  },
  {
   "cell_type": "code",
   "execution_count": 28,
   "metadata": {},
   "outputs": [],
   "source": [
    "test_data=test[['purchased', 'added_in_cart', 'checked_out', 'Month',\n",
    "       'Year', 'Day', 'sessionid_ncode', 'sessionnum_ncode',\n",
    "       'clientagnt_ncode', 'device_ncode']]"
   ]
  },
  {
   "cell_type": "code",
   "execution_count": 29,
   "metadata": {},
   "outputs": [],
   "source": [
    "from catboost import CatBoostRegressor\n",
    "from sklearn.linear_model import LinearRegression\n",
    "from sklearn.model_selection import train_test_split"
   ]
  },
  {
   "cell_type": "code",
   "execution_count": 30,
   "metadata": {},
   "outputs": [],
   "source": [
    "X_train, X_test, y_train, y_test = train_test_split(X,y, test_size=0.3,random_state=12)"
   ]
  },
  {
   "cell_type": "code",
   "execution_count": 34,
   "metadata": {},
   "outputs": [
    {
     "name": "stdout",
     "output_type": "stream",
     "text": [
      "RMSLE of train data: 2.029746140349575\n"
     ]
    }
   ],
   "source": [
    "lr=LinearRegression()\n",
    "lr.fit(X_train,y_train)\n",
    "train_pred=lr.predict(X_train)\n",
    "train_pred=abs(train_pred)\n",
    "print(\"RMSLE of train data:\",np.sqrt(mean_squared_log_error(train_pred,y_train)))"
   ]
  },
  {
   "cell_type": "code",
   "execution_count": 35,
   "metadata": {},
   "outputs": [
    {
     "name": "stdout",
     "output_type": "stream",
     "text": [
      "RMSLE of train data: 1.634678544706167\n"
     ]
    }
   ],
   "source": [
    "cb=CatBoostRegressor(verbose=False)\n",
    "cb.fit(X_train,y_train)\n",
    "cb_pred=cb.predict(X_train)\n",
    "cb_pred=abs(cb_pred)\n",
    "print(\"RMSLE of train data:\",np.sqrt(mean_squared_log_error(cb_pred,y_train)))"
   ]
  },
  {
   "cell_type": "code",
   "execution_count": 36,
   "metadata": {},
   "outputs": [
    {
     "name": "stdout",
     "output_type": "stream",
     "text": [
      "RMSLE of train data: 1.3331148689989065\n"
     ]
    }
   ],
   "source": [
    "from xgboost import XGBRegressor\n",
    "xgb=XGBRegressor(booster='gbtree',n_estimators=100)\n",
    "xgb.fit(X_train,y_train)\n",
    "xgb_pred=xgb.predict(X_train)\n",
    "xgb_pred=abs(xgb_pred)\n",
    "print(\"RMSLE of train data:\",np.sqrt(mean_squared_log_error(xgb_pred,y_train)))"
   ]
  },
  {
   "cell_type": "code",
   "execution_count": 37,
   "metadata": {},
   "outputs": [
    {
     "name": "stdout",
     "output_type": "stream",
     "text": [
      "RMSLE of train data: 1.200504818741844\n"
     ]
    }
   ],
   "source": [
    "from sklearn.ensemble import RandomForestRegressor\n",
    "rf=RandomForestRegressor(n_estimators=100)\n",
    "rf.fit(X_train,y_train)\n",
    "rf_pred=rf.predict(X_train)\n",
    "rf_pred=abs(rf_pred)\n",
    "print(\"RMSLE of train data:\",np.sqrt(mean_squared_log_error(rf_pred,y_train)))"
   ]
  },
  {
   "cell_type": "code",
   "execution_count": 38,
   "metadata": {},
   "outputs": [],
   "source": [
    "from sklearn.linear_model import LinearRegression\n",
    "from sklearn.linear_model import Lasso\n",
    "from sklearn.linear_model import ElasticNet\n",
    "from sklearn.tree import DecisionTreeRegressor\n",
    "from sklearn.neighbors import KNeighborsRegressor\n",
    "from sklearn.ensemble import GradientBoostingRegressor\n",
    "from sklearn.preprocessing import MinMaxScaler\n",
    "from sklearn.model_selection import KFold\n",
    "from sklearn.model_selection import cross_val_score\n",
    "\n",
    "import warnings\n",
    "warnings.filterwarnings(\"ignore\")"
   ]
  },
  {
   "cell_type": "code",
   "execution_count": 43,
   "metadata": {},
   "outputs": [
    {
     "name": "stdout",
     "output_type": "stream",
     "text": [
      "ScaledLR: -1578.688530 (312.513448)\n",
      "ScaledLASSO: -1578.529953 (312.911701)\n",
      "ScaledEN: -1645.842946 (316.148130)\n",
      "ScaledKNN: -1681.241824 (302.736969)\n",
      "ScaledCART: -2102.108424 (277.555996)\n",
      "ScaledGBM: -1527.162714 (333.395178)\n",
      "ScaledRF: -1578.749077 (272.312877)\n",
      "ScaledXGB: -1702.785467 (329.021342)\n"
     ]
    }
   ],
   "source": [
    "from sklearn.pipeline import Pipeline\n",
    "pipelines = []\n",
    "pipelines.append(('ScaledLR', Pipeline([('Scaler', MinMaxScaler()),('LR',LinearRegression())])))\n",
    "pipelines.append(('ScaledLASSO', Pipeline([('Scaler', MinMaxScaler()),('LASSO', Lasso())])))\n",
    "pipelines.append(('ScaledEN', Pipeline([('Scaler', MinMaxScaler()),('EN', ElasticNet())])))\n",
    "pipelines.append(('ScaledKNN', Pipeline([('Scaler', MinMaxScaler()),('KNN', KNeighborsRegressor())])))\n",
    "pipelines.append(('ScaledCART', Pipeline([('Scaler', MinMaxScaler()),('CART', DecisionTreeRegressor())])))\n",
    "pipelines.append(('ScaledGBM', Pipeline([('Scaler', MinMaxScaler()),('GBM', GradientBoostingRegressor())])))\n",
    "pipelines.append(('ScaledRF', Pipeline([('Scaler', MinMaxScaler()),('RF',  RandomForestRegressor())])))\n",
    "pipelines.append(('ScaledXGB', Pipeline([('Scaler', MinMaxScaler()),('XGB',  XGBRegressor())])))\n",
    "results = []\n",
    "names = []\n",
    "for name, model in pipelines:\n",
    "    kfold = KFold(n_splits=10, random_state=21)\n",
    "    cv_results = cross_val_score(model, X_train, y_train, cv=kfold, scoring='neg_root_mean_squared_error')\n",
    "    results.append(cv_results)\n",
    "    names.append(name)\n",
    "    msg = \"%s: %f (%f)\" % (name, cv_results.mean(), cv_results.std())\n",
    "    print(msg)"
   ]
  },
  {
   "cell_type": "code",
   "execution_count": 45,
   "metadata": {},
   "outputs": [
    {
     "name": "stdout",
     "output_type": "stream",
     "text": [
      "RMSLE of train data: 0.0\n"
     ]
    }
   ],
   "source": [
    "\n",
    "cart=DecisionTreeRegressor()\n",
    "cart.fit(X_train,y_train)\n",
    "cart_pred=cart.predict(X_train)\n",
    "cart_pred=abs(cart_pred)\n",
    "print(\"RMSLE of train data:\",np.sqrt(mean_squared_log_error(cart_pred,y_train)))"
   ]
  },
  {
   "cell_type": "code",
   "execution_count": 42,
   "metadata": {},
   "outputs": [
    {
     "name": "stdout",
     "output_type": "stream",
     "text": [
      "RMSLE of train data: 1.8633869821612272\n"
     ]
    }
   ],
   "source": [
    "\n",
    "gbm=GradientBoostingRegressor()\n",
    "gbm.fit(X_train,y_train)\n",
    "gbm_pred=gbm.predict(X_train)\n",
    "gbm_pred=abs(gbm_pred)\n",
    "print(\"RMSLE of train data:\",np.sqrt(mean_squared_log_error(gbm_pred,y_train)))"
   ]
  },
  {
   "cell_type": "code",
   "execution_count": 51,
   "metadata": {},
   "outputs": [],
   "source": [
    "from sklearn.ensemble import StackingRegressor\n",
    "from sklearn.ensemble import VotingRegressor"
   ]
  },
  {
   "cell_type": "code",
   "execution_count": 55,
   "metadata": {},
   "outputs": [
    {
     "name": "stdout",
     "output_type": "stream",
     "text": [
      "-----Training Data Evalution-----\n",
      "RMSLE:  0.8621240985861932\n",
      "Wall time: 9.12 s\n"
     ]
    }
   ],
   "source": [
    "%%time\n",
    "\n",
    "model = VotingRegressor([('cart', cart),('rf',rf)],n_jobs=-1)\n",
    "\n",
    "model.fit(X, y)\n",
    "\n",
    "y_test_pre = model.predict(X)\n",
    "y_train_pre = model.predict(X_train)\n",
    "#r2_train = r2_score(y_train, y_train_pre)\n",
    "rmsle_train  = np.sqrt(mean_squared_log_error(y_train, y_train_pre))\n",
    "print(\"-----Training Data Evalution-----\")\n",
    "#print(\"R2 Value: \", r2_score(y_train, y_train_pre))\n",
    "print(\"RMSLE: \",np.sqrt(mean_squared_log_error(y_train, y_train_pre)))"
   ]
  },
  {
   "cell_type": "code",
   "execution_count": 56,
   "metadata": {},
   "outputs": [],
   "source": [
    "ans=model.predict(test_data)\n",
    "sub = pd.read_csv('BTPCSubmission.csv')\n",
    "sub[\"time_spent\"]=abs(ans)\n",
    "sub.to_csv('sub_voting.csv', index=False)"
   ]
  },
  {
   "cell_type": "code",
   "execution_count": 48,
   "metadata": {},
   "outputs": [],
   "source": [
    "ans=cart.predict(test_data)\n",
    "sub = pd.read_csv('BTPCSubmission.csv')\n",
    "sub[\"time_spent\"]=abs(ans)\n",
    "sub.to_csv('sub_cart.csv', index=False)"
   ]
  },
  {
   "cell_type": "code",
   "execution_count": 149,
   "metadata": {},
   "outputs": [],
   "source": [
    "ans=rf.predict(test_data)"
   ]
  },
  {
   "cell_type": "code",
   "execution_count": null,
   "metadata": {},
   "outputs": [],
   "source": []
  },
  {
   "cell_type": "code",
   "execution_count": 150,
   "metadata": {},
   "outputs": [],
   "source": [
    "sub = pd.read_csv('BTPCSubmission.csv')\n",
    "sub[\"time_spent\"]=abs(ans)\n",
    "sub.to_csv('sub_rf.csv', index=False)"
   ]
  },
  {
   "cell_type": "code",
   "execution_count": null,
   "metadata": {},
   "outputs": [],
   "source": []
  }
 ],
 "metadata": {
  "kernelspec": {
   "display_name": "Python 3",
   "language": "python",
   "name": "python3"
  },
  "language_info": {
   "codemirror_mode": {
    "name": "ipython",
    "version": 3
   },
   "file_extension": ".py",
   "mimetype": "text/x-python",
   "name": "python",
   "nbconvert_exporter": "python",
   "pygments_lexer": "ipython3",
   "version": "3.8.5"
  }
 },
 "nbformat": 4,
 "nbformat_minor": 4
}
